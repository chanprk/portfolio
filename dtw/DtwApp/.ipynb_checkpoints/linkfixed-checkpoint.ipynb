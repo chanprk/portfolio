{
 "cells": [
  {
   "cell_type": "code",
   "execution_count": 1,
   "metadata": {
    "collapsed": true
   },
   "outputs": [],
   "source": [
    "import re\n",
    "\n",
    "def re_new(pat, rep, s):\n",
    "    return re.sub(pat, rep, s)"
   ]
  },
  {
   "cell_type": "code",
   "execution_count": 18,
   "metadata": {
    "collapsed": false
   },
   "outputs": [],
   "source": [
    "s = ''\n",
    "i = 5\n",
    "\n",
    "with open(\"cluster{}.md\".format(i), 'r') as f :\n",
    "    s =  re_new('\\[(.*)\\]\\((.*)\\)[^a-zA-Z]',r'<a href=\"\\2\" target=\"_blank\">\\1</a>', f.read())\n",
    "with open(\"clust{}_text.md\".format(i),'w') as f2:\n",
    "    f2.write(s)"
   ]
  },
  {
   "cell_type": "code",
   "execution_count": null,
   "metadata": {
    "collapsed": true
   },
   "outputs": [],
   "source": []
  }
 ],
 "metadata": {
  "kernelspec": {
   "display_name": "Python 2",
   "language": "python",
   "name": "python2"
  },
  "language_info": {
   "codemirror_mode": {
    "name": "ipython",
    "version": 2
   },
   "file_extension": ".py",
   "mimetype": "text/x-python",
   "name": "python",
   "nbconvert_exporter": "python",
   "pygments_lexer": "ipython2",
   "version": "2.7.9"
  }
 },
 "nbformat": 4,
 "nbformat_minor": 0
}
