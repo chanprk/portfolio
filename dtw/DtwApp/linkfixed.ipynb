{
 "cells": [
  {
   "cell_type": "code",
   "execution_count": 1,
   "metadata": {
    "collapsed": true
   },
   "outputs": [],
   "source": [
    "import re\n",
    "\n",
    "def re_new(pat, rep, s):\n",
    "    return re.sub(pat, rep, s)"
   ]
  },
  {
   "cell_type": "code",
   "execution_count": 29,
   "metadata": {
    "collapsed": false
   },
   "outputs": [],
   "source": [
    "s = ''\n",
    "for i in range(1,6) :\n",
    "    with open(\"cluster{}.md\".format(i), 'r') as f :\n",
    "        s =  re_new('\\[([^\\]]*)\\]\\(([^)]*)\\)',r'<a href=\"\\2\" target=\"_blank\">\\1</a>', f.read())\n",
    "    with open(\"clust{}_text.md\".format(i),'w') as f2:\n",
    "        f2.write(s)"
   ]
  },
  {
   "cell_type": "code",
   "execution_count": 25,
   "metadata": {
    "collapsed": false
   },
   "outputs": [
    {
     "data": {
      "text/plain": [
       "'Stocks in this cluster move in tandem with UK\\'s economic outlook. Broadcaster `ITV`, retail groups `M&S` and `Next plc` are <a href=\"https://webcache.googleusercontent.com/search?q=cache:Kor6a1pqw4wJ:https://www.ft.com/content/457624be-8fa3-11e6-a72e-b428cb934b78+&cd=1&hl=en&ct=clnk&gl=th\" target=\"_blank\">heavily UK-focused</a>. Commercial bank `Lloyds` was also <a href=\"http://www.nytimes.com/2016/07/29/business/dealbook/lloyds-earnings.html\" target=\"_blank\">hit by fear of economic slowdown</a>. The same goes for <a href=\"http://uk.reuters.com/article/uk-rbs-results-idUKKCN10G0G1\" target=\"_blank\">RBS</a>.\\n\\nBoE\\'s rate cut (*4 August*) did not hurt banks this time as BoE planned to <a href=\"http://www.bankofengland.co.uk/markets/Documents/marketnotice160804apftfs.pdf\" target=\"_blank\">lend up to \\xc2\\xa3100bn to them at low rates</a>. In effect, this stimulus packages was a boost to overall economy. It was followed by upbeat data showing sign of economic recovery in *the second half of August*, and these domestic-focused stocks enjoyed one month rally.\\n\\nOn the september hopes of delaying or reversing the UK\\xe2\\x80\\x99s departure from the EU was diminished. Brexit Minister, David Davis, <a href=\"http://uk.reuters.com/article/uk-britain-eu-davis-trade-idUKKCN11B1VP\" target=\"_blank\">ruled out the possiblility of second referendum</a>. EU council president, Donald Tusk, said <a href=\"https://www.theguardian.com/politics/2016/sep/16/theresa-may-likely-trigger-article-50-brexit-talks-early-2017\" target=\"_blank\">Theresa May, had told him article 50 was likely to be triggered in January or February next year</a>. Eventually, UK Priminister confirmed on *2 October* that <a href=\"http://www.bbc.com/news/uk-politics-37532364\" target=\"_blank\">Article 50 would be triggered by March 2017</a>.'"
      ]
     },
     "execution_count": 25,
     "metadata": {},
     "output_type": "execute_result"
    }
   ],
   "source": [
    "s"
   ]
  },
  {
   "cell_type": "code",
   "execution_count": null,
   "metadata": {
    "collapsed": true
   },
   "outputs": [],
   "source": []
  }
 ],
 "metadata": {
  "kernelspec": {
   "display_name": "Python 2",
   "language": "python",
   "name": "python2"
  },
  "language_info": {
   "codemirror_mode": {
    "name": "ipython",
    "version": 2
   },
   "file_extension": ".py",
   "mimetype": "text/x-python",
   "name": "python",
   "nbconvert_exporter": "python",
   "pygments_lexer": "ipython2",
   "version": "2.7.9"
  }
 },
 "nbformat": 4,
 "nbformat_minor": 0
}
